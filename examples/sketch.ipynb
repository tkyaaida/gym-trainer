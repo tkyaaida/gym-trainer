{
 "cells": [
  {
   "cell_type": "code",
   "execution_count": null,
   "metadata": {},
   "outputs": [],
   "source": [
    "import gym\n",
    "import torch\n",
    "import numpy as np"
   ]
  },
  {
   "cell_type": "code",
   "execution_count": null,
   "metadata": {},
   "outputs": [],
   "source": [
    "# envの作成\n",
    "env = gym.make('MountainCar-v0')"
   ]
  },
  {
   "cell_type": "code",
   "execution_count": null,
   "metadata": {},
   "outputs": [],
   "source": [
    "# 各種定数・ハイパーパラメータの定義\n",
    "num_episode = 100\n",
    "num_step = 100"
   ]
  },
  {
   "cell_type": "code",
   "execution_count": null,
   "metadata": {},
   "outputs": [],
   "source": [
    "observation = env.reset()\n",
    "print(observation)\n",
    "print(type(observation))"
   ]
  },
  {
   "cell_type": "code",
   "execution_count": null,
   "metadata": {},
   "outputs": [],
   "source": [
    "class MountrainCarAgent:\n",
    "    def __init__(self):\n",
    "        self.observation_dim = 2\n",
    "        self.action_dim = 3\n",
    "        self.state_dim = 1 + self.observation_dim * self.action_dim\n",
    "        self.num_episode = 2000\n",
    "        self.num_max_step = 200\n",
    "        self.decay_rate = 0.8  # lambda - the rate at which decreases return value\n",
    "        self.learning_rate = 0.05\n",
    "        self.gamma = 0.99  # discount factor\n",
    "        \n",
    "        self.weight = torch.randn(self.state_dim)\n",
    "    \n",
    "    def formulate_state(self, observation, action):\n",
    "        \"\"\"given observation, return agent's internal state representation\"\"\"\n",
    "        observation = observation.astype(np.float32)\n",
    "        state = torch.zeros(self.action_dim*self.observation_dim)\n",
    "        state[action*self.observation_dim:(action+1)*self.observation_dim] = torch.from_numpy(observation)\n",
    "        state = torch.cat([torch.Tensor(1), state])\n",
    "        return state\n",
    "    \n",
    "    def select_action(self, observation, epsilon=0):\n",
    "        \"\"\"given observation and reward given by the environment, return action to take next\"\"\"\n",
    "        action_values = [self._q_hat(self.formulate_state(observation, action)) for action in range(self.action_dim)]\n",
    "        action = self._epsilon_greedy(action_values, epsilon)\n",
    "        return action\n",
    "    \n",
    "    def train(self, env):\n",
    "        \"\"\"envにおいてエージェントを訓練する\"\"\"\n",
    "        for i_episode in range(self.num_episode):\n",
    "            observation = env.reset()\n",
    "            action = self.select_action(observation, 0.1)\n",
    "            state = self.formulate_state(observation, action)\n",
    "            z = torch.zeros(self.state_dim)\n",
    "            q_old = 0\n",
    "            for i_step in range(self.num_max_step):\n",
    "                observation_prime, reward, done, info = env.step(action)\n",
    "                action_prime = self.select_action(observation_prime, 0.1) if 0.1 < 1/(i_episode+1) else \\\n",
    "                                    self.select_action(observation_prime, 1/(i_episode+1))\n",
    "                state_prime = self.formulate_state(observation_prime, action_prime)\n",
    "                q = self._q_hat(state)\n",
    "                q_prime = self._q_hat(state_prime)\n",
    "                td_error = reward + self.gamma * q_prime - q\n",
    "                z = self.gamma * self.decay_rate * z + \\\n",
    "                        (1-self.learning_rate * self.gamma * torch.dot(z, state)) * state\n",
    "                self.weight += self.learning_rate * ((td_error + q - q_old) * z - (q - q_old) * state)\n",
    "                \n",
    "                q_old = q_prime\n",
    "                observation = observation_prime\n",
    "                state = state_prime\n",
    "                action = action_prime\n",
    "                \n",
    "                if done:\n",
    "                    break\n",
    "    \n",
    "    def _epsilon_greedy(self, action_values, epsilon=0.2):\n",
    "        \"\"\"action_values: list of action values\"\"\"\n",
    "        is_greedy = np.random.binomial(n=1, p=1-epsilon)\n",
    "        if is_greedy:\n",
    "            return np.argmax(action_values)\n",
    "        else:\n",
    "            return np.random.randint(len(action_values))\n",
    "    \n",
    "    def _q_hat(self, state):\n",
    "        \"\"\"given observation and action to take, return approximated action value q_hat\"\"\"\n",
    "        return torch.dot(self.weight, state)"
   ]
  },
  {
   "cell_type": "code",
   "execution_count": null,
   "metadata": {},
   "outputs": [],
   "source": [
    "agent = MountrainCarAgent()\n",
    "agent.train(env)"
   ]
  },
  {
   "cell_type": "code",
   "execution_count": null,
   "metadata": {},
   "outputs": [],
   "source": [
    "# demo\n",
    "\n",
    "observation = env.reset()\n",
    "for i in range(200):\n",
    "    env.render()\n",
    "    action = agent.select_action(observation, epsilon=0)\n",
    "    observation, reward, done, info = env.step(action)\n",
    "    if done:\n",
    "        break\n",
    "env.close()"
   ]
  },
  {
   "cell_type": "code",
   "execution_count": null,
   "metadata": {},
   "outputs": [],
   "source": []
  }
 ],
 "metadata": {
  "kernelspec": {
   "display_name": "Python 3",
   "language": "python",
   "name": "python3"
  },
  "language_info": {
   "codemirror_mode": {
    "name": "ipython",
    "version": 3
   },
   "file_extension": ".py",
   "mimetype": "text/x-python",
   "name": "python",
   "nbconvert_exporter": "python",
   "pygments_lexer": "ipython3",
   "version": "3.6.5"
  }
 },
 "nbformat": 4,
 "nbformat_minor": 2
}
